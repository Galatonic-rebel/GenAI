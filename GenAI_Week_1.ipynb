{
  "nbformat": 4,
  "nbformat_minor": 0,
  "metadata": {
    "colab": {
      "provenance": [],
      "authorship_tag": "ABX9TyMZWXKOjud/yiLMFlyH2I9y",
      "include_colab_link": true
    },
    "kernelspec": {
      "name": "python3",
      "display_name": "Python 3"
    },
    "language_info": {
      "name": "python"
    }
  },
  "cells": [
    {
      "cell_type": "markdown",
      "metadata": {
        "id": "view-in-github",
        "colab_type": "text"
      },
      "source": [
        "<a href=\"https://colab.research.google.com/github/Galatonic-rebel/GenAI/blob/main/GenAI_Week_1.ipynb\" target=\"_parent\"><img src=\"https://colab.research.google.com/assets/colab-badge.svg\" alt=\"Open In Colab\"/></a>"
      ]
    },
    {
      "cell_type": "code",
      "execution_count": null,
      "metadata": {
        "colab": {
          "base_uri": "https://localhost:8080/"
        },
        "id": "_ES8LJLPVJvN",
        "outputId": "53a9b7fb-ccd4-4a7f-ed11-26213dd232bf"
      },
      "outputs": [
        {
          "output_type": "stream",
          "name": "stderr",
          "text": [
            "100%|██████████| 26.4M/26.4M [00:01<00:00, 14.6MB/s]\n",
            "100%|██████████| 29.5k/29.5k [00:00<00:00, 229kB/s]\n",
            "100%|██████████| 4.42M/4.42M [00:01<00:00, 4.27MB/s]\n",
            "100%|██████████| 5.15k/5.15k [00:00<00:00, 8.38MB/s]\n"
          ]
        }
      ],
      "source": [
        "import torch\n",
        "from torch.utils.data import Dataset\n",
        "from torchvision import datasets\n",
        "from torchvision.transforms import ToTensor\n",
        "import matplotlib.pyplot as plt\n",
        "\n",
        "train_data = datasets.FashionMNIST(\n",
        "    root = \"data\",\n",
        "    train = True,\n",
        "    download = True,\n",
        "    transform = ToTensor()\n",
        ")\n",
        "\n",
        "test_data = datasets.FashionMNIST(\n",
        "    root = \"data\",\n",
        "    train = False,\n",
        "    download = True,\n",
        "    transform = ToTensor()\n",
        ")"
      ]
    },
    {
      "cell_type": "code",
      "source": [
        "# Indexing dataset\n",
        "\n",
        "labels_map ={\n",
        "    0: \"T-shirt\",\n",
        "    1: \"Trouser\",\n",
        "    2: \"Pullover\",\n",
        "    3: \"Dress\",\n",
        "    4: \"Coat\",\n",
        "    5: \"Sandal\",\n",
        "    6: \"Shirt\",\n",
        "    7: \"Sneaker\",\n",
        "    8: \"Bag\",\n",
        "    9: \"Ankle Boot\"\n",
        "}\n",
        "\n",
        "# Visualizing samples\n",
        "fig = plt.figure(figsize=(8,8))\n",
        "cols, rows = 3, 3\n",
        "for i in range (1, cols*rows + 1):\n",
        "  sample_index = torch.randint(len(train_data), size=(1,)).item()\n",
        "  img, label = train_data[sample_index]\n",
        "  fig.add_subplot(rows, cols, i)\n",
        "  plt.title(labels_map[label])\n",
        "  plt.axis(\"off\")\n",
        "  plt.imshow(img.squeeze(), cmap=\"Blues\")\n",
        "plt.show"
      ],
      "metadata": {
        "colab": {
          "base_uri": "https://localhost:8080/",
          "height": 864
        },
        "id": "W2RRhRJjXwJ5",
        "outputId": "38b5c240-85c3-429f-b060-7a779881ed31"
      },
      "execution_count": null,
      "outputs": [
        {
          "output_type": "execute_result",
          "data": {
            "text/plain": [
              "<function matplotlib.pyplot.show(close=None, block=None)>"
            ],
            "text/html": [
              "<div style=\"max-width:800px; border: 1px solid var(--colab-border-color);\"><style>\n",
              "      pre.function-repr-contents {\n",
              "        overflow-x: auto;\n",
              "        padding: 8px 12px;\n",
              "        max-height: 500px;\n",
              "      }\n",
              "\n",
              "      pre.function-repr-contents.function-repr-contents-collapsed {\n",
              "        cursor: pointer;\n",
              "        max-height: 100px;\n",
              "      }\n",
              "    </style>\n",
              "    <pre style=\"white-space: initial; background:\n",
              "         var(--colab-secondary-surface-color); padding: 8px 12px;\n",
              "         border-bottom: 1px solid var(--colab-border-color);\"><b>matplotlib.pyplot.show</b><br/>def show(*args, **kwargs) -&gt; None</pre><pre class=\"function-repr-contents function-repr-contents-collapsed\" style=\"\"><a class=\"filepath\" style=\"display:none\" href=\"#\">/usr/local/lib/python3.11/dist-packages/matplotlib/pyplot.py</a>Display all open figures.\n",
              "\n",
              "Parameters\n",
              "----------\n",
              "block : bool, optional\n",
              "    Whether to wait for all figures to be closed before returning.\n",
              "\n",
              "    If `True` block and run the GUI main loop until all figure windows\n",
              "    are closed.\n",
              "\n",
              "    If `False` ensure that all figure windows are displayed and return\n",
              "    immediately.  In this case, you are responsible for ensuring\n",
              "    that the event loop is running to have responsive figures.\n",
              "\n",
              "    Defaults to True in non-interactive mode and to False in interactive\n",
              "    mode (see `.pyplot.isinteractive`).\n",
              "\n",
              "See Also\n",
              "--------\n",
              "ion : Enable interactive mode, which shows / updates the figure after\n",
              "      every plotting command, so that calling ``show()`` is not necessary.\n",
              "ioff : Disable interactive mode.\n",
              "savefig : Save the figure to an image file instead of showing it on screen.\n",
              "\n",
              "Notes\n",
              "-----\n",
              "**Saving figures to file and showing a window at the same time**\n",
              "\n",
              "If you want an image file as well as a user interface window, use\n",
              "`.pyplot.savefig` before `.pyplot.show`. At the end of (a blocking)\n",
              "``show()`` the figure is closed and thus unregistered from pyplot. Calling\n",
              "`.pyplot.savefig` afterwards would save a new and thus empty figure. This\n",
              "limitation of command order does not apply if the show is non-blocking or\n",
              "if you keep a reference to the figure and use `.Figure.savefig`.\n",
              "\n",
              "**Auto-show in jupyter notebooks**\n",
              "\n",
              "The jupyter backends (activated via ``%matplotlib inline``,\n",
              "``%matplotlib notebook``, or ``%matplotlib widget``), call ``show()`` at\n",
              "the end of every cell by default. Thus, you usually don&#x27;t have to call it\n",
              "explicitly there.</pre>\n",
              "      <script>\n",
              "      if (google.colab.kernel.accessAllowed && google.colab.files && google.colab.files.view) {\n",
              "        for (const element of document.querySelectorAll('.filepath')) {\n",
              "          element.style.display = 'block'\n",
              "          element.onclick = (event) => {\n",
              "            event.preventDefault();\n",
              "            event.stopPropagation();\n",
              "            google.colab.files.view(element.textContent, 569);\n",
              "          };\n",
              "        }\n",
              "      }\n",
              "      for (const element of document.querySelectorAll('.function-repr-contents')) {\n",
              "        element.onclick = (event) => {\n",
              "          event.preventDefault();\n",
              "          event.stopPropagation();\n",
              "          element.classList.toggle('function-repr-contents-collapsed');\n",
              "        };\n",
              "      }\n",
              "      </script>\n",
              "      </div>"
            ]
          },
          "metadata": {},
          "execution_count": 5
        },
        {
          "output_type": "display_data",
          "data": {
            "text/plain": [
              "<Figure size 800x800 with 9 Axes>"
            ],
            "image/png": "[encoded data removed]"
          },
          "metadata": {}
        }
      ]
    },
    {
      "cell_type": "code",
      "source": [
        "import os\n",
        "import pandas as pd\n",
        "from torchvision.io import decode_image\n",
        "\n",
        "class CustomImageDataset(Dataset):\n",
        "  def __init__(self, annotations_file, img_dir, transform=None, target_transform=None):\n",
        "    self.img_labels = pd.read_csv(annotations_file)\n",
        "    self.img_dir = img_dir\n",
        "    self.transform = transform\n",
        "    self.target_transform = target_transform\n",
        "\n",
        "  # Number of samples in the dataset\n",
        "  def __len__(self):\n",
        "    return len(self.img_labels)\n",
        "\n",
        "  # Load and return sample\n",
        "  def __getitem__(self, idx):\n",
        "    img_path = os.path.join(self.img_dir, self.img_labels.iloc[idx, 0])\n",
        "    image = read_image(img_path)\n",
        "    label = self.img_labels.iloc[idx,1]\n",
        "    if self.transform:\n",
        "      image = self.transform(image)\n",
        "    if self.target_transform:\n",
        "      label = self.target_transform(label)\n",
        "    return image, label"
      ],
      "metadata": {
        "colab": {
          "base_uri": "https://localhost:8080/",
          "height": 17
        },
        "id": "Eva5HfjTZOTD",
        "outputId": "015b6596-ab53-428d-9d1b-2e60e146547b"
      },
      "execution_count": null,
      "outputs": [
        {
          "output_type": "display_data",
          "data": {
            "text/plain": [
              "<IPython.core.display.HTML object>"
            ],
            "text/html": [
              "\n",
              "  <style>\n",
              "    pre {\n",
              "        white-space: pre-wrap;\n",
              "    }\n",
              "  </style>\n",
              "  "
            ]
          },
          "metadata": {}
        }
      ]
    },
    {
      "cell_type": "code",
      "source": [
        "# DataLoader\n",
        "from torch.utils.data import DataLoader\n",
        "\n",
        "train_dataloader = DataLoader(train_data, batch_size=64, shuffle=True)\n",
        "test_dataLoader = DataLoader(test_data, batch_size=64, shuffle=True)"
      ],
      "metadata": {
        "colab": {
          "base_uri": "https://localhost:8080/",
          "height": 17
        },
        "id": "cXmuK64jeyhC",
        "outputId": "3d6d5c5a-6c98-4690-c759-04ec37a79605"
      },
      "execution_count": null,
      "outputs": [
        {
          "output_type": "display_data",
          "data": {
            "text/plain": [
              "<IPython.core.display.HTML object>"
            ],
            "text/html": [
              "\n",
              "  <style>\n",
              "    pre {\n",
              "        white-space: pre-wrap;\n",
              "    }\n",
              "  </style>\n",
              "  "
            ]
          },
          "metadata": {}
        }
      ]
    },
    {
      "cell_type": "code",
      "source": [
        "# Display image and label\n",
        "\n",
        "train_features, train_labels = next(iter(train_dataloader))\n",
        "print(f\"feature batch shape: {train_features.size()}\")\n",
        "print(f\"labels batch shape: {train_labels.size()}\")\n",
        "img = train_features[0].squeeze()\n",
        "label = train_labels[0]\n",
        "plt.imshow(img, cmap=\"Blues\")\n",
        "plt.show()\n",
        "print(f\"label: {label}\")"
      ],
      "metadata": {
        "colab": {
          "base_uri": "https://localhost:8080/",
          "height": 482
        },
        "id": "8Mxko4Rgfe0Q",
        "outputId": "e2b97ac6-5d00-4fce-94d9-d01c3d98c813"
      },
      "execution_count": null,
      "outputs": [
        {
          "output_type": "display_data",
          "data": {
            "text/plain": [
              "<IPython.core.display.HTML object>"
            ],
            "text/html": [
              "\n",
              "  <style>\n",
              "    pre {\n",
              "        white-space: pre-wrap;\n",
              "    }\n",
              "  </style>\n",
              "  "
            ]
          },
          "metadata": {}
        },
        {
          "output_type": "stream",
          "name": "stdout",
          "text": [
            "feature batch shape: torch.Size([64, 1, 28, 28])\n",
            "labels batch shape: torch.Size([64])\n"
          ]
        },
        {
          "output_type": "display_data",
          "data": {
            "text/plain": [
              "<Figure size 640x480 with 1 Axes>"
            ],
            "image/png": "[encoded data removed]"
          },
          "metadata": {}
        },
        {
          "output_type": "stream",
          "name": "stdout",
          "text": [
            "label: 2\n"
          ]
        }
      ]
    },
    {
      "cell_type": "code",
      "source": [
        "import torch\n",
        "from torchvision import datasets\n",
        "from torchvision.transforms import ToTensor, Lambda\n",
        "\n",
        "ds = datasets.FashionMNIST(\n",
        "    root = \"data\",\n",
        "    train = True,\n",
        "    download = True,\n",
        "    transform = ToTensor(),\n",
        "    target_transform= Lambda(lambda y: torch.zeros(10, dtype= torch.float).scatter_(0, torch.tensor(y),value=1))\n",
        ")"
      ],
      "metadata": {
        "colab": {
          "base_uri": "https://localhost:8080/"
        },
        "id": "_6gDkKSAgQgk",
        "outputId": "82ffe50b-d7e4-46ef-80c3-17d341ba70a7"
      },
      "execution_count": null,
      "outputs": [
        {
          "output_type": "stream",
          "name": "stderr",
          "text": [
            "100%|██████████| 26.4M/26.4M [00:01<00:00, 17.5MB/s]\n",
            "100%|██████████| 29.5k/29.5k [00:00<00:00, 298kB/s]\n",
            "100%|██████████| 4.42M/4.42M [00:00<00:00, 5.52MB/s]\n",
            "100%|██████████| 5.15k/5.15k [00:00<00:00, 10.6MB/s]\n"
          ]
        }
      ]
    },
    {
      "cell_type": "code",
      "source": [
        "# Building model\n",
        "\n",
        "import os\n",
        "import torch\n",
        "from torch import nn\n",
        "from torch.utils.data import DataLoader\n",
        "from torchvision import datasets, transforms"
      ],
      "metadata": {
        "id": "KANmLw7gAwn7"
      },
      "execution_count": null,
      "outputs": []
    },
    {
      "cell_type": "code",
      "source": [
        "device = torch.accelerator.current_accelerator().type if torch.accelerator.is_available() else \"cpu\"\n",
        "print(f\"Using {device} device\")"
      ],
      "metadata": {
        "colab": {
          "base_uri": "https://localhost:8080/"
        },
        "id": "pSwNrnsKR7M8",
        "outputId": "52201eca-bef1-4883-c169-172373ea642f"
      },
      "execution_count": null,
      "outputs": [
        {
          "output_type": "stream",
          "name": "stdout",
          "text": [
            "Using cpu device\n"
          ]
        }
      ]
    },
    {
      "cell_type": "code",
      "source": [
        "class NeuralNetwork(nn.Module):\n",
        "  def __init__(self):\n",
        "    super().__init__()\n",
        "    self.flatten = nn.Flatten()\n",
        "    self.linear_relu_stack = nn.Sequential(\n",
        "        nn.Linear(28*28, 512),\n",
        "        nn.ReLU(),\n",
        "        nn.Linear(512, 512),\n",
        "        nn.ReLU(),\n",
        "        nn.Linear(512,10)\n",
        "    )\n",
        "\n",
        "  def forward(self, x):\n",
        "      x = self.flatten(x)\n",
        "      logits = self.linear_relu_stack(x)\n",
        "      return logits"
      ],
      "metadata": {
        "id": "nzu5rgbjS58M"
      },
      "execution_count": null,
      "outputs": []
    },
    {
      "cell_type": "code",
      "source": [
        "model = NeuralNetwork().to(device)\n",
        "print(model)"
      ],
      "metadata": {
        "colab": {
          "base_uri": "https://localhost:8080/"
        },
        "id": "HaKL9Brw3F5V",
        "outputId": "824b869c-049b-4247-a7d1-43b0e92e584d"
      },
      "execution_count": null,
      "outputs": [
        {
          "output_type": "stream",
          "name": "stdout",
          "text": [
            "NeuralNetwork(\n",
            "  (flatten): Flatten(start_dim=1, end_dim=-1)\n",
            "  (linear_relu_stack): Sequential(\n",
            "    (0): Linear(in_features=784, out_features=512, bias=True)\n",
            "    (1): ReLU()\n",
            "    (2): Linear(in_features=512, out_features=512, bias=True)\n",
            "    (3): ReLU()\n",
            "    (4): Linear(in_features=512, out_features=10, bias=True)\n",
            "  )\n",
            ")\n"
          ]
        }
      ]
    },
    {
      "cell_type": "code",
      "source": [
        "X = torch.rand(1, 28, 28, device=device)\n",
        "logits = model(X)\n",
        "pred_prob = nn.Softmax(dim=1)(logits)\n",
        "y_pred = pred_prob.argmax(1)\n",
        "print(f\"This is the logits: {logits}\")\n",
        "print(f\"Predicted probabilities: {pred_prob}\")\n",
        "print(f\"Predicted class: {y_pred}\")"
      ],
      "metadata": {
        "colab": {
          "base_uri": "https://localhost:8080/"
        },
        "id": "EbFc0g_K4RL_",
        "outputId": "1d9fc03c-e913-4c9e-cf9b-cbbe8e489454"
      },
      "execution_count": null,
      "outputs": [
        {
          "output_type": "stream",
          "name": "stdout",
          "text": [
            "This is the logits: tensor([[ 0.0804, -0.0423,  0.0067,  0.0884,  0.0343, -0.0275, -0.0629, -0.0867,\n",
            "         -0.0379, -0.0645]], grad_fn=<AddmmBackward0>)\n",
            "Predicted probabilities: tensor([[0.1094, 0.0968, 0.1016, 0.1103, 0.1045, 0.0982, 0.0948, 0.0926, 0.0972,\n",
            "         0.0946]], grad_fn=<SoftmaxBackward0>)\n",
            "Predicted class: tensor([3])\n"
          ]
        }
      ]
    },
    {
      "cell_type": "code",
      "source": [
        "# Importing necessary libraries\n",
        "\n",
        "import torch\n",
        "from torch import nn\n",
        "from torch.utils.data import DataLoader\n",
        "from torchvision import datasets\n",
        "from torchvision.transforms import ToTensor\n",
        "\n",
        "\n",
        "# Setting the data\n",
        "train = datasets.FashionMNIST(\n",
        "    root =\"data\",\n",
        "    train = True,\n",
        "    download = True,\n",
        "    transform = ToTensor()\n",
        ")\n",
        "\n",
        "test = datasets.FashionMNIST(\n",
        "    root = \"data\",\n",
        "    train = False,\n",
        "    download = True,\n",
        "    transform = ToTensor()\n",
        ")\n",
        "\n",
        "train_dataloader = DataLoader(train, batch_size=64)\n",
        "test_dataLoader = DataLoader(test, batch_size=64)\n",
        "\n",
        "# Model building\n",
        "class NeuralNetwork(nn.Module):\n",
        "  def __init__(self):\n",
        "    super().__init__()\n",
        "    self.flatten = nn.Flatten()\n",
        "    self.linear_relu_stack = nn.Sequential(\n",
        "        nn.Linear(28*28, 512),\n",
        "        nn.ReLU(),\n",
        "        nn.Linear(512, 512),\n",
        "        nn.ReLU(),\n",
        "        nn.Linear(512, 10)\n",
        "    )\n",
        "\n",
        "  def forward(self, x):\n",
        "      x = self.flatten(x)\n",
        "      logits = self.linear_relu_stack(x)\n",
        "      return logits\n",
        "\n",
        "model = NeuralNetwork()"
      ],
      "metadata": {
        "id": "TSH7hes45jbo"
      },
      "execution_count": null,
      "outputs": []
    },
    {
      "cell_type": "code",
      "source": [
        "# Hyperparameters\n",
        "learning_rate = 1e-3\n",
        "batch_size = 64\n",
        "epochs = 5"
      ],
      "metadata": {
        "id": "h43CW_2v2BZU"
      },
      "execution_count": null,
      "outputs": []
    },
    {
      "cell_type": "code",
      "source": [
        "# Initializing loss function\n",
        "loss_fn = nn.CrossEntropyLoss()"
      ],
      "metadata": {
        "id": "ezWjnBeu3EIq"
      },
      "execution_count": null,
      "outputs": []
    },
    {
      "cell_type": "code",
      "source": [
        "# Optimizer\n",
        "optimizer = torch.optim.SGD(model.parameters(), lr=learning_rate)"
      ],
      "metadata": {
        "id": "v0uUmCw73jGH"
      },
      "execution_count": null,
      "outputs": []
    },
    {
      "cell_type": "code",
      "source": [
        "# Optimization\n",
        "\n",
        "def train_loop(dataloader, model, loss_fn, optimizer):\n",
        "  size = len(dataloader.dataset)\n",
        "  model.train()\n",
        "  for batch, (X, y) in enumerate (dataloader):\n",
        "    pred = model(X)\n",
        "    loss = loss_fn(pred, y)\n",
        "\n",
        "    # Backpropagation\n",
        "    loss.backward()\n",
        "    optimizer.step()\n",
        "    optimizer.zero_grad()\n",
        "\n",
        "    # Calculating accuracy\n",
        "    if batch % 100 == 0:\n",
        "      loss, current = loss.item(), batch*batch_size + len(X)\n",
        "      print(f\"loss: {loss:>7f} [{current:>5d}/{size:>5d}]\")\n",
        "\n",
        "def test_loop(dataloader, model, loss_fn):\n",
        "  model.eval()\n",
        "  size = len(dataloader.dataset)\n",
        "  num_batches = len(dataloader)\n",
        "  test_loss, correct = 0, 0\n",
        "\n",
        "  with torch.no_grad():\n",
        "    for X, y in dataloader:\n",
        "      pred = model(X)\n",
        "      test_loss += loss_fn(pred, y).item()\n",
        "      correct += (pred.argmax(1) == y).type(torch.float).sum().item()\n",
        "\n",
        "  test_loss /=num_batches\n",
        "  correct /= size\n",
        "  print(f\"Test Error: \\n Accuracy: {(100*correct):>0.1f}%, Avg loss: {test_loss:>8f}\\n\")\n",
        "\n"
      ],
      "metadata": {
        "id": "bH-nF9AN3z4K"
      },
      "execution_count": null,
      "outputs": []
    },
    {
      "cell_type": "code",
      "source": [
        "loss_fn = nn.CrossEntropyLoss()\n",
        "optimizer = torch.optim.SGD(model.parameters(), lr=learning_rate)\n",
        "epochs=10\n",
        "for t in range(epochs):\n",
        "  print(f\"Epoch {t+1}\\n------------------------------\")\n",
        "  train_loop(train_dataloader, model, loss_fn, optimizer)\n",
        "  test_loop(test_dataLoader, model, loss_fn)\n",
        "print(\"Dooone!\")"
      ],
      "metadata": {
        "colab": {
          "base_uri": "https://localhost:8080/"
        },
        "id": "PPP2f86N6m02",
        "outputId": "0ad52717-44d2-4084-b733-d6206d468098"
      },
      "execution_count": null,
      "outputs": [
        {
          "output_type": "stream",
          "name": "stdout",
          "text": [
            "Epoch 1\n",
            "------------------------------\n",
            "loss: 2.299220 [   64/60000]\n",
            "loss: 2.292693 [ 6464/60000]\n",
            "loss: 2.282175 [12864/60000]\n",
            "loss: 2.272851 [19264/60000]\n",
            "loss: 2.251174 [25664/60000]\n",
            "loss: 2.234328 [32064/60000]\n",
            "loss: 2.232296 [38464/60000]\n",
            "loss: 2.206249 [44864/60000]\n",
            "loss: 2.198394 [51264/60000]\n",
            "loss: 2.167816 [57664/60000]\n",
            "Test Error: \n",
            " Accuracy: 51.4%, Avg loss: 2.166793\n",
            "\n",
            "Epoch 2\n",
            "------------------------------\n",
            "loss: 2.172328 [   64/60000]\n",
            "loss: 2.170067 [ 6464/60000]\n",
            "loss: 2.116585 [12864/60000]\n",
            "loss: 2.127873 [19264/60000]\n",
            "loss: 2.087381 [25664/60000]\n",
            "loss: 2.030290 [32064/60000]\n",
            "loss: 2.054755 [38464/60000]\n",
            "loss: 1.981117 [44864/60000]\n",
            "loss: 1.976418 [51264/60000]\n",
            "loss: 1.910551 [57664/60000]\n",
            "Test Error: \n",
            " Accuracy: 61.7%, Avg loss: 1.909840\n",
            "\n",
            "Epoch 3\n",
            "------------------------------\n",
            "loss: 1.936668 [   64/60000]\n",
            "loss: 1.917032 [ 6464/60000]\n",
            "loss: 1.796414 [12864/60000]\n",
            "loss: 1.831836 [19264/60000]\n",
            "loss: 1.747038 [25664/60000]\n",
            "loss: 1.682390 [32064/60000]\n",
            "loss: 1.707625 [38464/60000]\n",
            "loss: 1.606103 [44864/60000]\n",
            "loss: 1.619323 [51264/60000]\n",
            "loss: 1.516450 [57664/60000]\n",
            "Test Error: \n",
            " Accuracy: 61.3%, Avg loss: 1.537472\n",
            "\n",
            "Epoch 4\n",
            "------------------------------\n",
            "loss: 1.598302 [   64/60000]\n",
            "loss: 1.571546 [ 6464/60000]\n",
            "loss: 1.416400 [12864/60000]\n",
            "loss: 1.490408 [19264/60000]\n",
            "loss: 1.386523 [25664/60000]\n",
            "loss: 1.363755 [32064/60000]\n",
            "loss: 1.387217 [38464/60000]\n",
            "loss: 1.308371 [44864/60000]\n",
            "loss: 1.334602 [51264/60000]\n",
            "loss: 1.234994 [57664/60000]\n",
            "Test Error: \n",
            " Accuracy: 62.8%, Avg loss: 1.266365\n",
            "\n",
            "Epoch 5\n",
            "------------------------------\n",
            "loss: 1.338222 [   64/60000]\n",
            "loss: 1.326111 [ 6464/60000]\n",
            "loss: 1.157638 [12864/60000]\n",
            "loss: 1.266191 [19264/60000]\n",
            "loss: 1.147513 [25664/60000]\n",
            "loss: 1.162430 [32064/60000]\n",
            "loss: 1.192137 [38464/60000]\n",
            "loss: 1.126299 [44864/60000]\n",
            "loss: 1.156076 [51264/60000]\n",
            "loss: 1.073921 [57664/60000]\n",
            "Test Error: \n",
            " Accuracy: 64.3%, Avg loss: 1.098283\n",
            "\n",
            "Epoch 6\n",
            "------------------------------\n",
            "loss: 1.166981 [   64/60000]\n",
            "loss: 1.172281 [ 6464/60000]\n",
            "loss: 0.986951 [12864/60000]\n",
            "loss: 1.124062 [19264/60000]\n",
            "loss: 0.999083 [25664/60000]\n",
            "loss: 1.027290 [32064/60000]\n",
            "loss: 1.071786 [38464/60000]\n",
            "loss: 1.009945 [44864/60000]\n",
            "loss: 1.039371 [51264/60000]\n",
            "loss: 0.973192 [57664/60000]\n",
            "Test Error: \n",
            " Accuracy: 65.6%, Avg loss: 0.989419\n",
            "\n",
            "Epoch 7\n",
            "------------------------------\n",
            "loss: 1.048141 [   64/60000]\n",
            "loss: 1.073049 [ 6464/60000]\n",
            "loss: 0.870143 [12864/60000]\n",
            "loss: 1.028733 [19264/60000]\n",
            "loss: 0.905482 [25664/60000]\n",
            "loss: 0.931464 [32064/60000]\n",
            "loss: 0.992965 [38464/60000]\n",
            "loss: 0.933741 [44864/60000]\n",
            "loss: 0.958094 [51264/60000]\n",
            "loss: 0.905769 [57664/60000]\n",
            "Test Error: \n",
            " Accuracy: 66.8%, Avg loss: 0.915089\n",
            "\n",
            "Epoch 8\n",
            "------------------------------\n",
            "loss: 0.960019 [   64/60000]\n",
            "loss: 1.004246 [ 6464/60000]\n",
            "loss: 0.786371 [12864/60000]\n",
            "loss: 0.961093 [19264/60000]\n",
            "loss: 0.843165 [25664/60000]\n",
            "loss: 0.860826 [32064/60000]\n",
            "loss: 0.937363 [38464/60000]\n",
            "loss: 0.882593 [44864/60000]\n",
            "loss: 0.899555 [51264/60000]\n",
            "loss: 0.857077 [57664/60000]\n",
            "Test Error: \n",
            " Accuracy: 68.1%, Avg loss: 0.861645\n",
            "\n",
            "Epoch 9\n",
            "------------------------------\n",
            "loss: 0.891942 [   64/60000]\n",
            "loss: 0.952630 [ 6464/60000]\n",
            "loss: 0.723971 [12864/60000]\n",
            "loss: 0.910653 [19264/60000]\n",
            "loss: 0.798806 [25664/60000]\n",
            "loss: 0.807224 [32064/60000]\n",
            "loss: 0.895106 [38464/60000]\n",
            "loss: 0.847345 [44864/60000]\n",
            "loss: 0.856097 [51264/60000]\n",
            "loss: 0.819630 [57664/60000]\n",
            "Test Error: \n",
            " Accuracy: 69.4%, Avg loss: 0.821241\n",
            "\n",
            "Epoch 10\n",
            "------------------------------\n",
            "loss: 0.837375 [   64/60000]\n",
            "loss: 0.911302 [ 6464/60000]\n",
            "loss: 0.675494 [12864/60000]\n",
            "loss: 0.871570 [19264/60000]\n",
            "loss: 0.765357 [25664/60000]\n",
            "loss: 0.765902 [32064/60000]\n",
            "loss: 0.860935 [38464/60000]\n",
            "loss: 0.821679 [44864/60000]\n",
            "loss: 0.822688 [51264/60000]\n",
            "loss: 0.789417 [57664/60000]\n",
            "Test Error: \n",
            " Accuracy: 70.5%, Avg loss: 0.789172\n",
            "\n",
            "Dooone!\n"
          ]
        }
      ]
    }
  ]
}